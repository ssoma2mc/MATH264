{
  "cells": [
    {
      "cell_type": "markdown",
      "metadata": {
        "id": "view-in-github",
        "colab_type": "text"
      },
      "source": [
        "<a href=\"https://colab.research.google.com/github/ssoma2mc/MATH264/blob/main/Chapter_1.ipynb\" target=\"_parent\"><img src=\"https://colab.research.google.com/assets/colab-badge.svg\" alt=\"Open In Colab\"/></a>"
      ]
    },
    {
      "cell_type": "markdown",
      "metadata": {
        "id": "SbGFWGzkd44U"
      },
      "source": [
        "### Importing libraries or module"
      ]
    },
    {
      "cell_type": "code",
      "execution_count": null,
      "metadata": {
        "id": "tY0IlmddejbI"
      },
      "outputs": [],
      "source": [
        "# import libraries\n",
        "import numpy as np\n",
        "\n",
        "# import everything from sympy module\n",
        "from sympy import *\n"
      ]
    },
    {
      "cell_type": "markdown",
      "metadata": {
        "id": "_kSQSRE-fBUp"
      },
      "source": [
        "# Vector-scalar multiplication"
      ]
    },
    {
      "cell_type": "code",
      "execution_count": null,
      "metadata": {
        "id": "stq0frvmihiN",
        "colab": {
          "base_uri": "https://localhost:8080/"
        },
        "outputId": "36b26b5a-6d50-4525-c0da-64683613b320"
      },
      "outputs": [
        {
          "output_type": "stream",
          "name": "stdout",
          "text": [
            "[-1.5 -2. ]\n"
          ]
        }
      ],
      "source": [
        "# a scalar\n",
        "s = -1/2\n",
        "\n",
        "# a vector\n",
        "b = np.array([3,4])\n",
        "\n",
        "# print them\n",
        "print(b*s)\n",
        "\n",
        "# Question: Does vector b need to be a numpy array? What happens if it's a list?"
      ]
    },
    {
      "cell_type": "code",
      "execution_count": null,
      "metadata": {
        "id": "jgNODDx_ltdn",
        "colab": {
          "base_uri": "https://localhost:8080/",
          "height": 357
        },
        "outputId": "a299ad67-4e50-406e-ae8b-ecdf47cf13d9"
      },
      "outputs": [
        {
          "output_type": "error",
          "ename": "AttributeError",
          "evalue": "ignored",
          "traceback": [
            "\u001b[0;31m---------------------------------------------------------------------------\u001b[0m",
            "\u001b[0;31mAttributeError\u001b[0m                            Traceback (most recent call last)",
            "\u001b[0;32m<ipython-input-3-3f66b99741cd>\u001b[0m in \u001b[0;36m<module>\u001b[0;34m\u001b[0m\n\u001b[1;32m      1\u001b[0m \u001b[0;31m# Scalar-vector addition\u001b[0m\u001b[0;34m\u001b[0m\u001b[0;34m\u001b[0m\u001b[0;34m\u001b[0m\u001b[0m\n\u001b[1;32m      2\u001b[0m \u001b[0ms\u001b[0m \u001b[0;34m=\u001b[0m \u001b[0;36m3.5\u001b[0m\u001b[0;34m\u001b[0m\u001b[0;34m\u001b[0m\u001b[0m\n\u001b[0;32m----> 3\u001b[0;31m \u001b[0mv\u001b[0m\u001b[0;34m=\u001b[0m\u001b[0mnp\u001b[0m\u001b[0;34m.\u001b[0m\u001b[0marrary\u001b[0m\u001b[0;34m(\u001b[0m\u001b[0;34m[\u001b[0m\u001b[0;36m1\u001b[0m\u001b[0;34m,\u001b[0m\u001b[0;36m2\u001b[0m\u001b[0;34m,\u001b[0m\u001b[0;36m3\u001b[0m\u001b[0;34m]\u001b[0m\u001b[0;34m)\u001b[0m\u001b[0;34m\u001b[0m\u001b[0;34m\u001b[0m\u001b[0m\n\u001b[0m\u001b[1;32m      4\u001b[0m \u001b[0mprint\u001b[0m\u001b[0;34m(\u001b[0m\u001b[0mv\u001b[0m\u001b[0;34m)\u001b[0m\u001b[0;34m\u001b[0m\u001b[0;34m\u001b[0m\u001b[0m\n\u001b[1;32m      5\u001b[0m \u001b[0mprint\u001b[0m\u001b[0;34m(\u001b[0m\u001b[0ms\u001b[0m\u001b[0;34m+\u001b[0m\u001b[0mv\u001b[0m\u001b[0;34m)\u001b[0m\u001b[0;34m\u001b[0m\u001b[0;34m\u001b[0m\u001b[0m\n",
            "\u001b[0;32m/usr/local/lib/python3.8/dist-packages/numpy/__init__.py\u001b[0m in \u001b[0;36m__getattr__\u001b[0;34m(attr)\u001b[0m\n\u001b[1;32m    311\u001b[0m                 \u001b[0;32mreturn\u001b[0m \u001b[0mTester\u001b[0m\u001b[0;34m\u001b[0m\u001b[0;34m\u001b[0m\u001b[0m\n\u001b[1;32m    312\u001b[0m \u001b[0;34m\u001b[0m\u001b[0m\n\u001b[0;32m--> 313\u001b[0;31m             raise AttributeError(\"module {!r} has no attribute \"\n\u001b[0m\u001b[1;32m    314\u001b[0m                                  \"{!r}\".format(__name__, attr))\n\u001b[1;32m    315\u001b[0m \u001b[0;34m\u001b[0m\u001b[0m\n",
            "\u001b[0;31mAttributeError\u001b[0m: module 'numpy' has no attribute 'arrary'"
          ]
        }
      ],
      "source": [
        "# Scalar-vector addition\n",
        "s = 3.5\n",
        "v=np.arrary([1,2,3])\n",
        "print(v)\n",
        "print(s+v)"
      ]
    },
    {
      "cell_type": "code",
      "execution_count": null,
      "metadata": {
        "id": "R1uZ0ATO2rdM"
      },
      "outputs": [],
      "source": [
        "# Row vector\n",
        "r = np.array([ [1,2,3] ])\n",
        "\n",
        "# orientationless array\n",
        "l = np.array([1,2,3])"
      ]
    },
    {
      "cell_type": "markdown",
      "metadata": {
        "id": "KcF07aOdihqE"
      },
      "source": [
        "# Vector transpose"
      ]
    },
    {
      "cell_type": "code",
      "execution_count": null,
      "metadata": {
        "id": "-EEhEycVwXNO"
      },
      "outputs": [],
      "source": [
        "# Row vector\n",
        "r = np.array([ [1,2,3] ])\n",
        "\n",
        "# orientationless array\n",
        "l = np.array([1,2,3])"
      ]
    },
    {
      "cell_type": "code",
      "execution_count": null,
      "metadata": {
        "id": "576musu6wXV1",
        "colab": {
          "base_uri": "https://localhost:8080/"
        },
        "outputId": "759e727f-a693-4320-cb45-c5b6a94c0575"
      },
      "outputs": [
        {
          "output_type": "stream",
          "name": "stdout",
          "text": [
            "[[1 2 3]]\n",
            "[[1]\n",
            " [2]\n",
            " [3]]\n",
            "[1 2 3]\n",
            "[1 2 3]\n"
          ]
        }
      ],
      "source": [
        "# print out the vector and its transpos\n",
        "print(r)\n",
        "print(np.transpose(r))\n",
        "\n",
        "# what about l and l transpose?\n",
        "print(l)\n",
        "print(np.transpose(l))"
      ]
    },
    {
      "cell_type": "markdown",
      "metadata": {
        "id": "toCvM6BReALV"
      },
      "source": [
        "# Row Reduction of Matrices (LE2)\n",
        "\n",
        "***Definition 1.2.6***.  A matrix is in reduced row echelon form (RREF) if:\n",
        " Call these terms pivots.\n",
        "\n",
        "\n",
        "\n",
        "Every matrix has a unique reduced row echelon form. If\n",
        "\n",
        "1.   The leading term (first nonzero term) of each nonzero row is a 1.\n",
        "2.   Each pivot is to the right of every higher pivot.\n",
        "3.   Each term above or below a pivot is zero.\n",
        "4.   All rows of zeroes are at the bottom of the matrix.\n",
        "\n",
        "if $A$ is a matrix, we write $RREF(A)$ for the reduced row echelon form of that matrix.\n",
        "\n",
        "\n"
      ]
    },
    {
      "cell_type": "markdown",
      "source": [
        "Cheking if a matrix is in RREF\n",
        "\n",
        "$A=\\left[\\begin{array}{ccc}2 & 1 & 0 \\\\ 1 & 0 & 0 \\\\ 3 & -1 & 1\\end{array}\\right]$\n"
      ],
      "metadata": {
        "id": "L0PohAEV4H3o"
      }
    },
    {
      "cell_type": "code",
      "source": [
        "T=Matrix([[-3,6,2,8],[-1,2,5,7],[2,-4,-3,-7],[1,-2,-1,-3]])\n",
        "print(T)\n",
        "T.rref()"
      ],
      "metadata": {
        "colab": {
          "base_uri": "https://localhost:8080/"
        },
        "id": "6XPiKaYzI2dY",
        "outputId": "8da1fb57-45d3-41ef-8bcd-5f6631208ce8"
      },
      "execution_count": null,
      "outputs": [
        {
          "output_type": "stream",
          "name": "stdout",
          "text": [
            "Matrix([[-3, 6, 2, 8], [-1, 2, 5, 7], [2, -4, -3, -7], [1, -2, -1, -3]])\n"
          ]
        },
        {
          "output_type": "execute_result",
          "data": {
            "text/plain": [
              "(Matrix([\n",
              " [1, -2, 0, -2],\n",
              " [0,  0, 1,  1],\n",
              " [0,  0, 0,  0],\n",
              " [0,  0, 0,  0]]), (0, 2))"
            ]
          },
          "metadata": {},
          "execution_count": 7
        }
      ]
    },
    {
      "cell_type": "code",
      "source": [
        "#lets first define the matrix\n",
        "#A=matrix([[2,1,0],[1,0,0],[3,-1,1]])\n",
        "#A_rref=A.rref()\n",
        "\n",
        "A= Matrix([[2,1,0],[1,0,0],[3,-1,1]]);\n",
        "print(A==A.rref())\n",
        "print(A.rref())"
      ],
      "metadata": {
        "colab": {
          "base_uri": "https://localhost:8080/"
        },
        "id": "TIKHfxa24U8W",
        "outputId": "2dcc366e-813b-4de7-e8bd-e7874675390f"
      },
      "execution_count": null,
      "outputs": [
        {
          "output_type": "stream",
          "name": "stdout",
          "text": [
            "False\n",
            "(Matrix([\n",
            "[1, 0, 0],\n",
            "[0, 1, 0],\n",
            "[0, 0, 1]]), (0, 1, 2))\n"
          ]
        }
      ]
    },
    {
      "cell_type": "code",
      "source": [
        "M = Matrix([[1, 0, 1, 3], [2, 3, 4, 7], [-1, -3, -3, -4]])\n",
        "print(\"Matrix : {} \".format(M))\n",
        "\n",
        "# Use sympy.rref() method\n",
        "#The pivots=fale means it does not show the location of pivots in each row\n",
        "M_rref = M.rref()\n",
        "print(\"The Row echelon form of matrix M and the pivot columns : {}\".format(M_rref))\n",
        "\n",
        "#In case you do not want to see the location of pivot in each columns\n",
        "print(\"The Row echelon form of matrix M and the pivot columns : {}\".format(M.rref(pivots=false)))\n",
        "\n",
        "#If you really like to see the matrix as a 2D matrix format. you can use numpy to change the matrix to numpy format and that will let you see it\n",
        "#print(np.matrix(M_rref))"
      ],
      "metadata": {
        "colab": {
          "base_uri": "https://localhost:8080/"
        },
        "id": "CPXLJnIv2tQq",
        "outputId": "7639f7d3-9b7a-4595-8260-3db929329fc1"
      },
      "execution_count": null,
      "outputs": [
        {
          "output_type": "stream",
          "name": "stdout",
          "text": [
            "Matrix : Matrix([[1, 0, 1, 3], [2, 3, 4, 7], [-1, -3, -3, -4]]) \n",
            "The Row echelon form of matrix M and the pivot columns : (Matrix([\n",
            "[1, 0,   1,   3],\n",
            "[0, 1, 2/3, 1/3],\n",
            "[0, 0,   0,   0]]), (0, 1))\n",
            "The Row echelon form of matrix M and the pivot columns : Matrix([[1, 0, 1, 3], [0, 1, 2/3, 1/3], [0, 0, 0, 0]])\n"
          ]
        }
      ]
    },
    {
      "cell_type": "markdown",
      "source": [
        "#Row Operation\n",
        "##1. Swapping Two Row"
      ],
      "metadata": {
        "id": "5GyTWviQzFaa"
      }
    },
    {
      "cell_type": "code",
      "source": [
        "#Method 1, we will use append to add an extra row and then later we delete it after switching both rows\n",
        "S=np.array([[1,1],[2,2],[3,3]])\n",
        "print(S)\n",
        "row=np.array([1,1])\n",
        "\n",
        "# we add a new row to the matrix S\n",
        "TT=np.append(S,[row],axis= 0)\n",
        "# Now, we rearrang the row 1 to be row 3 and row 3 to be row 4\n",
        "TT[0,:]=TT[2,:]\n",
        "TT[2,:]=TT[3,:]\n",
        "#Finally we will delete row 4 since we do not need it\n",
        "TT=np.delete(TT,3,0)\n",
        "print(TT)\n",
        "\n"
      ],
      "metadata": {
        "id": "ud9uVbJF7ARe",
        "colab": {
          "base_uri": "https://localhost:8080/"
        },
        "outputId": "272870cf-abf3-4bfd-9b2a-7a09a73c6b42"
      },
      "execution_count": null,
      "outputs": [
        {
          "output_type": "stream",
          "name": "stdout",
          "text": [
            "[[1 1]\n",
            " [2 2]\n",
            " [3 3]]\n",
            "[[3 3]\n",
            " [2 2]\n",
            " [1 1]]\n"
          ]
        }
      ]
    },
    {
      "cell_type": "markdown",
      "source": [
        "# Here is another way, I think this one is much easier:\n"
      ],
      "metadata": {
        "id": "rNdXyzz0c5t4"
      }
    },
    {
      "cell_type": "code",
      "source": [
        "#Method 2, Creating a row vecotr  and the make a switch\n",
        "SS=np.array([[1,1],[2,2],[3,3]])\n",
        "print(SS)\n",
        "#Creating a vector row\n",
        "R1=np.array([[1,1]])\n",
        "#changeing row 1 to be the row 3 and then row 3 to be the vecotr row\n",
        "SS[0,:]=SS[2,:]\n",
        "SS[2,:]=R1\n",
        "print(SS)"
      ],
      "metadata": {
        "colab": {
          "base_uri": "https://localhost:8080/"
        },
        "id": "VzqYuBkNdA2O",
        "outputId": "51334a62-1586-4aea-877f-f443257d920d"
      },
      "execution_count": null,
      "outputs": [
        {
          "output_type": "stream",
          "name": "stdout",
          "text": [
            "[[1 1]\n",
            " [2 2]\n",
            " [3 3]]\n",
            "[[3 3]\n",
            " [2 2]\n",
            " [1 1]]\n"
          ]
        }
      ]
    },
    {
      "cell_type": "code",
      "source": [
        "#This one is more general, since we defien a function\n",
        "def swapp_row(Matrix,row1,row2):\n",
        "  r=row1\n",
        "  s=row2\n",
        "  print(Matrix)\n",
        "  M=np.array(Matrix)\n",
        "  Row=np.array(M[r,:])\n",
        "  M[r,:]=M[s,:]\n",
        "  M[s,:]=Row\n",
        "  return M"
      ],
      "metadata": {
        "id": "JgATJ6m324LH"
      },
      "execution_count": null,
      "outputs": []
    },
    {
      "cell_type": "code",
      "source": [
        "swapp_row([[1,2],[3,4],[4,5]],0,2)\n",
        "\n"
      ],
      "metadata": {
        "colab": {
          "base_uri": "https://localhost:8080/"
        },
        "id": "OokOLpBabARR",
        "outputId": "632cc608-f470-4b84-9ac9-c3a03dd8410c"
      },
      "execution_count": null,
      "outputs": [
        {
          "output_type": "stream",
          "name": "stdout",
          "text": [
            "[[1, 2], [3, 4], [4, 5]]\n"
          ]
        },
        {
          "output_type": "execute_result",
          "data": {
            "text/plain": [
              "array([[4, 5],\n",
              "       [3, 4],\n",
              "       [1, 2]])"
            ]
          },
          "metadata": {},
          "execution_count": 17
        }
      ]
    },
    {
      "cell_type": "markdown",
      "source": [
        "#2. Multiply a row by a nonzero constant.\n",
        "\n"
      ],
      "metadata": {
        "id": "d9uFoGb-AnTo"
      }
    },
    {
      "cell_type": "code",
      "source": [
        "def scalar_row(M,r,a):\n",
        "  #M is the matrix r is the row and a is the scalar\n",
        "  print(M)\n",
        "  M=np.array(M)\n",
        "  M[r,:]=float(a)*M[r,:]\n",
        "  return M"
      ],
      "metadata": {
        "id": "6GNdAD1yAwOg"
      },
      "execution_count": null,
      "outputs": []
    },
    {
      "cell_type": "markdown",
      "source": [
        "#3. Add a constant multiple of one row to another row"
      ],
      "metadata": {
        "id": "TeuXqMW1BwN4"
      }
    },
    {
      "cell_type": "code",
      "source": [
        "def multiple_rowconstant(M,r,s,a):\n",
        "  #M is the matrix r is the row and a is the scalar\n",
        "  print(M)\n",
        "  M=np.array(M)\n",
        "  M[r,:]=a*M[s,:]+M[r,:]\n",
        "  return M"
      ],
      "metadata": {
        "id": "rZmQy9FYCZ3Y"
      },
      "execution_count": null,
      "outputs": []
    },
    {
      "cell_type": "code",
      "source": [
        "multiple_rowconstant([[1,1],[2,2]],0,1,5)"
      ],
      "metadata": {
        "id": "pxyVT5QcCsM2"
      },
      "execution_count": null,
      "outputs": []
    },
    {
      "cell_type": "code",
      "source": [
        "T=np.array([1,2,3])\n",
        "S=np.array([2,3,4])\n",
        "Summ=T+S\n",
        "print(Summ)"
      ],
      "metadata": {
        "id": "w2718Ao-EFXN",
        "colab": {
          "base_uri": "https://localhost:8080/"
        },
        "outputId": "97819947-4dd7-4ef4-c0bb-0ad8289c561c"
      },
      "execution_count": null,
      "outputs": [
        {
          "output_type": "stream",
          "name": "stdout",
          "text": [
            "[3 5 7]\n"
          ]
        }
      ]
    }
  ],
  "metadata": {
    "colab": {
      "provenance": [],
      "include_colab_link": true
    },
    "kernelspec": {
      "display_name": "Python 3",
      "name": "python3"
    },
    "language_info": {
      "name": "python"
    }
  },
  "nbformat": 4,
  "nbformat_minor": 0
}